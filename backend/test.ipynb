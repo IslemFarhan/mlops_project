{
 "cells": [
  {
   "cell_type": "code",
   "execution_count": 2,
   "metadata": {},
   "outputs": [
    {
     "data": {
      "text/html": [
       "<pre style=\"white-space:pre;overflow-x:auto;line-height:normal;font-family:Menlo,'DejaVu Sans Mono',consolas,'Courier New',monospace\">Initialized MLflow to track repo <span style=\"color: #008000; text-decoration-color: #008000\">\"RimMth/mlops_project\"</span>\n",
       "</pre>\n"
      ],
      "text/plain": [
       "Initialized MLflow to track repo \u001b[32m\"RimMth/mlops_project\"\u001b[0m\n"
      ]
     },
     "metadata": {},
     "output_type": "display_data"
    },
    {
     "data": {
      "text/html": [
       "<pre style=\"white-space:pre;overflow-x:auto;line-height:normal;font-family:Menlo,'DejaVu Sans Mono',consolas,'Courier New',monospace\">Repository RimMth/mlops_project initialized!\n",
       "</pre>\n"
      ],
      "text/plain": [
       "Repository RimMth/mlops_project initialized!\n"
      ]
     },
     "metadata": {},
     "output_type": "display_data"
    },
    {
     "name": "stderr",
     "output_type": "stream",
     "text": [
      "C:\\Users\\MSI\\AppData\\Local\\Temp\\ipykernel_3272\\1741040021.py:23: FutureWarning: ``mlflow.tracking.client.MlflowClient.get_latest_versions`` is deprecated since 2.9.0. Model registry stages will be removed in a future major release. To learn more about the deprecation of model registry stages, see our migration guide here: https://mlflow.org/docs/latest/model-registry.html#migrating-from-stages\n",
      "  versions = client.get_latest_versions(model_name, stages=[\"Production\"])\n"
     ]
    },
    {
     "name": "stdout",
     "output_type": "stream",
     "text": [
      "Latest version in Production: 1, Run ID: d74f8feba63b4ee0a0f40cb4cd1c0f01\n",
      "Logged Model: runs:/d74f8feba63b4ee0a0f40cb4cd1c0f01/DecisionTree\n",
      "Model loaded from runs:/d74f8feba63b4ee0a0f40cb4cd1c0f01/DecisionTree\n"
     ]
    }
   ],
   "source": [
    "import dagshub\n",
    "import mlflow\n",
    "import json\n",
    "# Initialize DagsHub and MLflow integration\n",
    "dagshub.init(repo_owner='RimMth', repo_name='mlops_project', mlflow=True)\n",
    "\n",
    "mlflow.set_experiment(\"mlops\")\n",
    "\n",
    "# Set the tracking URI for MLflow to log the experiment in DagsHub\n",
    "mlflow.set_tracking_uri(\"https://dagshub.com/RimMth/mlops_project.mlflow\") \n",
    "\n",
    "reports_path = \"models/run_info.json\"\n",
    "with open(reports_path, 'r') as file:\n",
    "    run_info = json.load(file)\n",
    "model_name = run_info['model_name'] \n",
    "\n",
    "\n",
    "try:\n",
    "    # Create an MlflowClient to interact with the MLflow server\n",
    "    client = mlflow.tracking.MlflowClient()\n",
    "\n",
    "    # Get the latest version of the model in the Production stage\n",
    "    versions = client.get_latest_versions(model_name, stages=[\"Production\"])\n",
    "\n",
    "    if versions:\n",
    "        latest_version = versions[0].version\n",
    "        run_id = versions[0].run_id  # Fetching the run ID from the latest version\n",
    "        print(f\"Latest version in Production: {latest_version}, Run ID: {run_id}\")\n",
    "\n",
    "        # Construct the logged_model string\n",
    "        logged_model = f'runs:/{run_id}/{model_name}'\n",
    "        print(\"Logged Model:\", logged_model)\n",
    "\n",
    "        # Load the model using the logged_model variable\n",
    "        loaded_model = mlflow.pyfunc.load_model(logged_model)\n",
    "        print(f\"Model loaded from {logged_model}\")\n",
    "\n",
    "    else:\n",
    "        print(\"No model found in the 'Production' stage.\")\n",
    "\n",
    "except Exception as e:\n",
    "    print(f\"Error fetching model: {e}\")"
   ]
  },
  {
   "cell_type": "code",
   "execution_count": null,
   "metadata": {},
   "outputs": [],
   "source": []
  }
 ],
 "metadata": {
  "kernelspec": {
   "display_name": ".venv",
   "language": "python",
   "name": "python3"
  },
  "language_info": {
   "codemirror_mode": {
    "name": "ipython",
    "version": 3
   },
   "file_extension": ".py",
   "mimetype": "text/x-python",
   "name": "python",
   "nbconvert_exporter": "python",
   "pygments_lexer": "ipython3",
   "version": "3.11.9"
  }
 },
 "nbformat": 4,
 "nbformat_minor": 2
}
